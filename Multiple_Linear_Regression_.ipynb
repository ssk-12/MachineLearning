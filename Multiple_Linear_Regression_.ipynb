{
  "nbformat": 4,
  "nbformat_minor": 0,
  "metadata": {
    "colab": {
      "provenance": [],
      "include_colab_link": true
    },
    "kernelspec": {
      "name": "python3",
      "display_name": "Python 3"
    }
  },
  "cells": [
    {
      "cell_type": "markdown",
      "metadata": {
        "id": "view-in-github",
        "colab_type": "text"
      },
      "source": [
        "<a href=\"https://colab.research.google.com/github/ssk-12/MachineLearning/blob/main/Multiple_Linear_Regression_.ipynb\" target=\"_parent\"><img src=\"https://colab.research.google.com/assets/colab-badge.svg\" alt=\"Open In Colab\"/></a>"
      ]
    },
    {
      "cell_type": "code",
      "source": [
        "from google.colab import drive\n",
        "drive.mount('/content/drive')"
      ],
      "metadata": {
        "colab": {
          "base_uri": "https://localhost:8080/"
        },
        "id": "zSGhIikW8yTx",
        "outputId": "0e1755ea-0673-47e6-9244-4aab68474194"
      },
      "execution_count": null,
      "outputs": [
        {
          "output_type": "stream",
          "name": "stdout",
          "text": [
            "Drive already mounted at /content/drive; to attempt to forcibly remount, call drive.mount(\"/content/drive\", force_remount=True).\n"
          ]
        }
      ]
    },
    {
      "cell_type": "markdown",
      "metadata": {
        "id": "FB7mg-9WUSAn"
      },
      "source": [
        "# Multiple Linear Regression"
      ]
    },
    {
      "cell_type": "markdown",
      "metadata": {
        "id": "zcXufiytUV3b"
      },
      "source": [
        "## Importing Libraries"
      ]
    },
    {
      "cell_type": "code",
      "source": [
        "import numpy as np\n",
        "import pandas as pd\n",
        "import seaborn as sb\n",
        "import matplotlib.pyplot as plt"
      ],
      "metadata": {
        "id": "fgi4DOfp7-Ul"
      },
      "execution_count": null,
      "outputs": []
    },
    {
      "cell_type": "markdown",
      "metadata": {
        "id": "x1V8I7-1Ugu8"
      },
      "source": [
        "## Importing Data Set"
      ]
    },
    {
      "cell_type": "code",
      "source": [
        "datatest = pd.read_csv(\"/content/drive/MyDrive/FML/Dataset_master.xlsx - Covid_data Multiple Linear Regr.csv\")\n",
        "datatest"
      ],
      "metadata": {
        "colab": {
          "base_uri": "https://localhost:8080/",
          "height": 423
        },
        "id": "rSr6KCFm8iyo",
        "outputId": "90b6c5fd-4a5c-4c98-b12c-f1191bf137f1"
      },
      "execution_count": null,
      "outputs": [
        {
          "output_type": "execute_result",
          "data": {
            "text/plain": [
              "    age Body Temp  Chronic disease  Blood O2 Level in Percentage  Anti Bodies\n",
              "0    10  Moderate                0                            97       127181\n",
              "1    80      High                0                            92        61004\n",
              "2    10       Low                0                            97       111911\n",
              "3    81      High                4                            75        39010\n",
              "4    12  Moderate                0                            97       110911\n",
              "..  ...       ...              ...                           ...          ...\n",
              "65   76      High                4                            80        39010\n",
              "66   35  Moderate                0                            92        91141\n",
              "67   13  Moderate                0                            94       112101\n",
              "68   82      High                3                            73        42010\n",
              "69   84      High                3                            75        42099\n",
              "\n",
              "[70 rows x 5 columns]"
            ],
            "text/html": [
              "\n",
              "  <div id=\"df-bab1ba51-16bd-4f7a-8f76-83981a24c187\">\n",
              "    <div class=\"colab-df-container\">\n",
              "      <div>\n",
              "<style scoped>\n",
              "    .dataframe tbody tr th:only-of-type {\n",
              "        vertical-align: middle;\n",
              "    }\n",
              "\n",
              "    .dataframe tbody tr th {\n",
              "        vertical-align: top;\n",
              "    }\n",
              "\n",
              "    .dataframe thead th {\n",
              "        text-align: right;\n",
              "    }\n",
              "</style>\n",
              "<table border=\"1\" class=\"dataframe\">\n",
              "  <thead>\n",
              "    <tr style=\"text-align: right;\">\n",
              "      <th></th>\n",
              "      <th>age</th>\n",
              "      <th>Body Temp</th>\n",
              "      <th>Chronic disease</th>\n",
              "      <th>Blood O2 Level in Percentage</th>\n",
              "      <th>Anti Bodies</th>\n",
              "    </tr>\n",
              "  </thead>\n",
              "  <tbody>\n",
              "    <tr>\n",
              "      <th>0</th>\n",
              "      <td>10</td>\n",
              "      <td>Moderate</td>\n",
              "      <td>0</td>\n",
              "      <td>97</td>\n",
              "      <td>127181</td>\n",
              "    </tr>\n",
              "    <tr>\n",
              "      <th>1</th>\n",
              "      <td>80</td>\n",
              "      <td>High</td>\n",
              "      <td>0</td>\n",
              "      <td>92</td>\n",
              "      <td>61004</td>\n",
              "    </tr>\n",
              "    <tr>\n",
              "      <th>2</th>\n",
              "      <td>10</td>\n",
              "      <td>Low</td>\n",
              "      <td>0</td>\n",
              "      <td>97</td>\n",
              "      <td>111911</td>\n",
              "    </tr>\n",
              "    <tr>\n",
              "      <th>3</th>\n",
              "      <td>81</td>\n",
              "      <td>High</td>\n",
              "      <td>4</td>\n",
              "      <td>75</td>\n",
              "      <td>39010</td>\n",
              "    </tr>\n",
              "    <tr>\n",
              "      <th>4</th>\n",
              "      <td>12</td>\n",
              "      <td>Moderate</td>\n",
              "      <td>0</td>\n",
              "      <td>97</td>\n",
              "      <td>110911</td>\n",
              "    </tr>\n",
              "    <tr>\n",
              "      <th>...</th>\n",
              "      <td>...</td>\n",
              "      <td>...</td>\n",
              "      <td>...</td>\n",
              "      <td>...</td>\n",
              "      <td>...</td>\n",
              "    </tr>\n",
              "    <tr>\n",
              "      <th>65</th>\n",
              "      <td>76</td>\n",
              "      <td>High</td>\n",
              "      <td>4</td>\n",
              "      <td>80</td>\n",
              "      <td>39010</td>\n",
              "    </tr>\n",
              "    <tr>\n",
              "      <th>66</th>\n",
              "      <td>35</td>\n",
              "      <td>Moderate</td>\n",
              "      <td>0</td>\n",
              "      <td>92</td>\n",
              "      <td>91141</td>\n",
              "    </tr>\n",
              "    <tr>\n",
              "      <th>67</th>\n",
              "      <td>13</td>\n",
              "      <td>Moderate</td>\n",
              "      <td>0</td>\n",
              "      <td>94</td>\n",
              "      <td>112101</td>\n",
              "    </tr>\n",
              "    <tr>\n",
              "      <th>68</th>\n",
              "      <td>82</td>\n",
              "      <td>High</td>\n",
              "      <td>3</td>\n",
              "      <td>73</td>\n",
              "      <td>42010</td>\n",
              "    </tr>\n",
              "    <tr>\n",
              "      <th>69</th>\n",
              "      <td>84</td>\n",
              "      <td>High</td>\n",
              "      <td>3</td>\n",
              "      <td>75</td>\n",
              "      <td>42099</td>\n",
              "    </tr>\n",
              "  </tbody>\n",
              "</table>\n",
              "<p>70 rows × 5 columns</p>\n",
              "</div>\n",
              "      <button class=\"colab-df-convert\" onclick=\"convertToInteractive('df-bab1ba51-16bd-4f7a-8f76-83981a24c187')\"\n",
              "              title=\"Convert this dataframe to an interactive table.\"\n",
              "              style=\"display:none;\">\n",
              "        \n",
              "  <svg xmlns=\"http://www.w3.org/2000/svg\" height=\"24px\"viewBox=\"0 0 24 24\"\n",
              "       width=\"24px\">\n",
              "    <path d=\"M0 0h24v24H0V0z\" fill=\"none\"/>\n",
              "    <path d=\"M18.56 5.44l.94 2.06.94-2.06 2.06-.94-2.06-.94-.94-2.06-.94 2.06-2.06.94zm-11 1L8.5 8.5l.94-2.06 2.06-.94-2.06-.94L8.5 2.5l-.94 2.06-2.06.94zm10 10l.94 2.06.94-2.06 2.06-.94-2.06-.94-.94-2.06-.94 2.06-2.06.94z\"/><path d=\"M17.41 7.96l-1.37-1.37c-.4-.4-.92-.59-1.43-.59-.52 0-1.04.2-1.43.59L10.3 9.45l-7.72 7.72c-.78.78-.78 2.05 0 2.83L4 21.41c.39.39.9.59 1.41.59.51 0 1.02-.2 1.41-.59l7.78-7.78 2.81-2.81c.8-.78.8-2.07 0-2.86zM5.41 20L4 18.59l7.72-7.72 1.47 1.35L5.41 20z\"/>\n",
              "  </svg>\n",
              "      </button>\n",
              "      \n",
              "  <style>\n",
              "    .colab-df-container {\n",
              "      display:flex;\n",
              "      flex-wrap:wrap;\n",
              "      gap: 12px;\n",
              "    }\n",
              "\n",
              "    .colab-df-convert {\n",
              "      background-color: #E8F0FE;\n",
              "      border: none;\n",
              "      border-radius: 50%;\n",
              "      cursor: pointer;\n",
              "      display: none;\n",
              "      fill: #1967D2;\n",
              "      height: 32px;\n",
              "      padding: 0 0 0 0;\n",
              "      width: 32px;\n",
              "    }\n",
              "\n",
              "    .colab-df-convert:hover {\n",
              "      background-color: #E2EBFA;\n",
              "      box-shadow: 0px 1px 2px rgba(60, 64, 67, 0.3), 0px 1px 3px 1px rgba(60, 64, 67, 0.15);\n",
              "      fill: #174EA6;\n",
              "    }\n",
              "\n",
              "    [theme=dark] .colab-df-convert {\n",
              "      background-color: #3B4455;\n",
              "      fill: #D2E3FC;\n",
              "    }\n",
              "\n",
              "    [theme=dark] .colab-df-convert:hover {\n",
              "      background-color: #434B5C;\n",
              "      box-shadow: 0px 1px 3px 1px rgba(0, 0, 0, 0.15);\n",
              "      filter: drop-shadow(0px 1px 2px rgba(0, 0, 0, 0.3));\n",
              "      fill: #FFFFFF;\n",
              "    }\n",
              "  </style>\n",
              "\n",
              "      <script>\n",
              "        const buttonEl =\n",
              "          document.querySelector('#df-bab1ba51-16bd-4f7a-8f76-83981a24c187 button.colab-df-convert');\n",
              "        buttonEl.style.display =\n",
              "          google.colab.kernel.accessAllowed ? 'block' : 'none';\n",
              "\n",
              "        async function convertToInteractive(key) {\n",
              "          const element = document.querySelector('#df-bab1ba51-16bd-4f7a-8f76-83981a24c187');\n",
              "          const dataTable =\n",
              "            await google.colab.kernel.invokeFunction('convertToInteractive',\n",
              "                                                     [key], {});\n",
              "          if (!dataTable) return;\n",
              "\n",
              "          const docLinkHtml = 'Like what you see? Visit the ' +\n",
              "            '<a target=\"_blank\" href=https://colab.research.google.com/notebooks/data_table.ipynb>data table notebook</a>'\n",
              "            + ' to learn more about interactive tables.';\n",
              "          element.innerHTML = '';\n",
              "          dataTable['output_type'] = 'display_data';\n",
              "          await google.colab.output.renderOutput(dataTable, element);\n",
              "          const docLink = document.createElement('div');\n",
              "          docLink.innerHTML = docLinkHtml;\n",
              "          element.appendChild(docLink);\n",
              "        }\n",
              "      </script>\n",
              "    </div>\n",
              "  </div>\n",
              "  "
            ]
          },
          "metadata": {},
          "execution_count": 67
        }
      ]
    },
    {
      "cell_type": "code",
      "source": [
        "datatest.shape"
      ],
      "metadata": {
        "colab": {
          "base_uri": "https://localhost:8080/"
        },
        "id": "mGI40bKb9SUG",
        "outputId": "0dc8a866-5228-4eb9-c88d-296ed25c24db"
      },
      "execution_count": null,
      "outputs": [
        {
          "output_type": "execute_result",
          "data": {
            "text/plain": [
              "(70, 5)"
            ]
          },
          "metadata": {},
          "execution_count": 68
        }
      ]
    },
    {
      "cell_type": "code",
      "source": [
        "datatest.info()"
      ],
      "metadata": {
        "colab": {
          "base_uri": "https://localhost:8080/"
        },
        "id": "fomD9Nhd9ekM",
        "outputId": "464d731c-67c6-458c-ebe5-d14e44af790e"
      },
      "execution_count": null,
      "outputs": [
        {
          "output_type": "stream",
          "name": "stdout",
          "text": [
            "<class 'pandas.core.frame.DataFrame'>\n",
            "RangeIndex: 70 entries, 0 to 69\n",
            "Data columns (total 5 columns):\n",
            " #   Column                        Non-Null Count  Dtype \n",
            "---  ------                        --------------  ----- \n",
            " 0   age                           70 non-null     int64 \n",
            " 1   Body Temp                     70 non-null     object\n",
            " 2   Chronic disease               70 non-null     int64 \n",
            " 3   Blood O2 Level in Percentage  70 non-null     int64 \n",
            " 4   Anti Bodies                   70 non-null     int64 \n",
            "dtypes: int64(4), object(1)\n",
            "memory usage: 2.9+ KB\n"
          ]
        }
      ]
    },
    {
      "cell_type": "code",
      "source": [
        "x = datatest.iloc[:, :-1].values\n",
        "y = datatest.iloc[:, -1].values"
      ],
      "metadata": {
        "id": "kiqM_oYk9kOO"
      },
      "execution_count": null,
      "outputs": []
    },
    {
      "cell_type": "markdown",
      "metadata": {
        "id": "V9bZq2w39GwP"
      },
      "source": [
        "## Encoding categorical data"
      ]
    },
    {
      "cell_type": "code",
      "source": [
        "from sklearn.compose import ColumnTransformer\n",
        "from sklearn.preprocessing import OneHotEncoder\n",
        "ct = ColumnTransformer(transformers = [('encoder', OneHotEncoder(),[1])], remainder = 'passthrough')\n",
        "x = np.array(ct.fit_transform(x))\n",
        "x"
      ],
      "metadata": {
        "colab": {
          "base_uri": "https://localhost:8080/"
        },
        "id": "Xx5yX5R2Piks",
        "outputId": "65858411-c3d6-42bb-957a-50d256c0f65c"
      },
      "execution_count": null,
      "outputs": [
        {
          "output_type": "execute_result",
          "data": {
            "text/plain": [
              "array([[0.0, 0.0, 1.0, 10, 0, 97],\n",
              "       [1.0, 0.0, 0.0, 80, 0, 92],\n",
              "       [0.0, 1.0, 0.0, 10, 0, 97],\n",
              "       [1.0, 0.0, 0.0, 81, 4, 75],\n",
              "       [0.0, 0.0, 1.0, 12, 0, 97],\n",
              "       [0.0, 1.0, 0.0, 18, 0, 66],\n",
              "       [0.0, 0.0, 1.0, 13, 0, 93],\n",
              "       [1.0, 0.0, 0.0, 94, 4, 64],\n",
              "       [1.0, 0.0, 0.0, 86, 2, 76],\n",
              "       [0.0, 0.0, 1.0, 20, 0, 92],\n",
              "       [0.0, 0.0, 1.0, 15, 0, 94],\n",
              "       [0.0, 0.0, 1.0, 15, 0, 92],\n",
              "       [0.0, 1.0, 0.0, 16, 0, 92],\n",
              "       [0.0, 0.0, 1.0, 17, 0, 93],\n",
              "       [0.0, 0.0, 1.0, 18, 0, 93],\n",
              "       [0.0, 0.0, 1.0, 19, 0, 92],\n",
              "       [0.0, 0.0, 1.0, 19, 0, 89],\n",
              "       [0.0, 0.0, 1.0, 12, 0, 97],\n",
              "       [0.0, 0.0, 1.0, 20, 0, 93],\n",
              "       [0.0, 0.0, 1.0, 24, 0, 92],\n",
              "       [0.0, 0.0, 1.0, 25, 0, 93],\n",
              "       [1.0, 0.0, 0.0, 59, 2, 68],\n",
              "       [1.0, 0.0, 0.0, 63, 1, 66],\n",
              "       [0.0, 0.0, 1.0, 25, 1, 62],\n",
              "       [1.0, 0.0, 0.0, 26, 0, 94],\n",
              "       [0.0, 1.0, 0.0, 26, 0, 97],\n",
              "       [0.0, 0.0, 1.0, 28, 0, 99],\n",
              "       [1.0, 0.0, 0.0, 59, 0, 69],\n",
              "       [0.0, 0.0, 1.0, 28, 0, 89],\n",
              "       [0.0, 0.0, 1.0, 29, 0, 93],\n",
              "       [0.0, 0.0, 1.0, 48, 0, 93],\n",
              "       [0.0, 0.0, 1.0, 30, 0, 62],\n",
              "       [0.0, 0.0, 1.0, 30, 0, 86],\n",
              "       [0.0, 0.0, 1.0, 32, 0, 84],\n",
              "       [0.0, 0.0, 1.0, 34, 1, 90],\n",
              "       [0.0, 0.0, 1.0, 35, 0, 89],\n",
              "       [1.0, 0.0, 0.0, 50, 2, 77],\n",
              "       [1.0, 0.0, 0.0, 56, 2, 76],\n",
              "       [1.0, 0.0, 0.0, 56, 1, 77],\n",
              "       [1.0, 0.0, 0.0, 36, 1, 90],\n",
              "       [1.0, 0.0, 0.0, 38, 2, 75],\n",
              "       [0.0, 0.0, 1.0, 40, 0, 90],\n",
              "       [1.0, 0.0, 0.0, 40, 0, 92],\n",
              "       [1.0, 0.0, 0.0, 61, 2, 76],\n",
              "       [1.0, 0.0, 0.0, 42, 0, 92],\n",
              "       [1.0, 0.0, 0.0, 46, 0, 91],\n",
              "       [0.0, 0.0, 1.0, 49, 0, 80],\n",
              "       [1.0, 0.0, 0.0, 52, 1, 80],\n",
              "       [0.0, 0.0, 1.0, 32, 0, 89],\n",
              "       [1.0, 0.0, 0.0, 53, 1, 55],\n",
              "       [1.0, 0.0, 0.0, 54, 1, 70],\n",
              "       [1.0, 0.0, 0.0, 90, 3, 67],\n",
              "       [1.0, 0.0, 0.0, 78, 2, 71],\n",
              "       [1.0, 0.0, 0.0, 58, 0, 70],\n",
              "       [1.0, 0.0, 0.0, 60, 1, 68],\n",
              "       [0.0, 0.0, 1.0, 61, 0, 90],\n",
              "       [1.0, 0.0, 0.0, 62, 1, 68],\n",
              "       [1.0, 0.0, 0.0, 86, 3, 71],\n",
              "       [1.0, 0.0, 0.0, 62, 2, 69],\n",
              "       [1.0, 0.0, 0.0, 64, 1, 73],\n",
              "       [1.0, 0.0, 0.0, 68, 1, 67],\n",
              "       [1.0, 0.0, 0.0, 69, 0, 53],\n",
              "       [0.0, 0.0, 1.0, 70, 1, 88],\n",
              "       [1.0, 0.0, 0.0, 74, 2, 75],\n",
              "       [1.0, 0.0, 0.0, 75, 1, 72],\n",
              "       [1.0, 0.0, 0.0, 76, 4, 80],\n",
              "       [0.0, 0.0, 1.0, 35, 0, 92],\n",
              "       [0.0, 0.0, 1.0, 13, 0, 94],\n",
              "       [1.0, 0.0, 0.0, 82, 3, 73],\n",
              "       [1.0, 0.0, 0.0, 84, 3, 75]], dtype=object)"
            ]
          },
          "metadata": {},
          "execution_count": 71
        }
      ]
    },
    {
      "cell_type": "markdown",
      "metadata": {
        "id": "2vBbKI1BUilB"
      },
      "source": [
        "## Splitting into test and training set"
      ]
    },
    {
      "cell_type": "code",
      "source": [
        "from sklearn.model_selection import train_test_split\n",
        "x_train, x_test, y_train, y_test = train_test_split(x,y,test_size = 0.4, random_state = 42)"
      ],
      "metadata": {
        "id": "srxc1IT-_oUD"
      },
      "execution_count": null,
      "outputs": []
    },
    {
      "cell_type": "markdown",
      "metadata": {
        "id": "K6uEL0b5Utac"
      },
      "source": [
        "## Training the Multiple Linear Regression model on the Training set"
      ]
    },
    {
      "cell_type": "code",
      "source": [
        "from sklearn.linear_model import LinearRegression\n",
        "regressor = LinearRegression()\n",
        "regressor.fit(x_train,y_train)"
      ],
      "metadata": {
        "colab": {
          "base_uri": "https://localhost:8080/",
          "height": 74
        },
        "id": "I8iido1kGXD-",
        "outputId": "a3e79c8f-ba4e-4ae4-bdbf-c623ec1e5d5c"
      },
      "execution_count": null,
      "outputs": [
        {
          "output_type": "execute_result",
          "data": {
            "text/plain": [
              "LinearRegression()"
            ],
            "text/html": [
              "<style>#sk-container-id-5 {color: black;background-color: white;}#sk-container-id-5 pre{padding: 0;}#sk-container-id-5 div.sk-toggleable {background-color: white;}#sk-container-id-5 label.sk-toggleable__label {cursor: pointer;display: block;width: 100%;margin-bottom: 0;padding: 0.3em;box-sizing: border-box;text-align: center;}#sk-container-id-5 label.sk-toggleable__label-arrow:before {content: \"▸\";float: left;margin-right: 0.25em;color: #696969;}#sk-container-id-5 label.sk-toggleable__label-arrow:hover:before {color: black;}#sk-container-id-5 div.sk-estimator:hover label.sk-toggleable__label-arrow:before {color: black;}#sk-container-id-5 div.sk-toggleable__content {max-height: 0;max-width: 0;overflow: hidden;text-align: left;background-color: #f0f8ff;}#sk-container-id-5 div.sk-toggleable__content pre {margin: 0.2em;color: black;border-radius: 0.25em;background-color: #f0f8ff;}#sk-container-id-5 input.sk-toggleable__control:checked~div.sk-toggleable__content {max-height: 200px;max-width: 100%;overflow: auto;}#sk-container-id-5 input.sk-toggleable__control:checked~label.sk-toggleable__label-arrow:before {content: \"▾\";}#sk-container-id-5 div.sk-estimator input.sk-toggleable__control:checked~label.sk-toggleable__label {background-color: #d4ebff;}#sk-container-id-5 div.sk-label input.sk-toggleable__control:checked~label.sk-toggleable__label {background-color: #d4ebff;}#sk-container-id-5 input.sk-hidden--visually {border: 0;clip: rect(1px 1px 1px 1px);clip: rect(1px, 1px, 1px, 1px);height: 1px;margin: -1px;overflow: hidden;padding: 0;position: absolute;width: 1px;}#sk-container-id-5 div.sk-estimator {font-family: monospace;background-color: #f0f8ff;border: 1px dotted black;border-radius: 0.25em;box-sizing: border-box;margin-bottom: 0.5em;}#sk-container-id-5 div.sk-estimator:hover {background-color: #d4ebff;}#sk-container-id-5 div.sk-parallel-item::after {content: \"\";width: 100%;border-bottom: 1px solid gray;flex-grow: 1;}#sk-container-id-5 div.sk-label:hover label.sk-toggleable__label {background-color: #d4ebff;}#sk-container-id-5 div.sk-serial::before {content: \"\";position: absolute;border-left: 1px solid gray;box-sizing: border-box;top: 0;bottom: 0;left: 50%;z-index: 0;}#sk-container-id-5 div.sk-serial {display: flex;flex-direction: column;align-items: center;background-color: white;padding-right: 0.2em;padding-left: 0.2em;position: relative;}#sk-container-id-5 div.sk-item {position: relative;z-index: 1;}#sk-container-id-5 div.sk-parallel {display: flex;align-items: stretch;justify-content: center;background-color: white;position: relative;}#sk-container-id-5 div.sk-item::before, #sk-container-id-5 div.sk-parallel-item::before {content: \"\";position: absolute;border-left: 1px solid gray;box-sizing: border-box;top: 0;bottom: 0;left: 50%;z-index: -1;}#sk-container-id-5 div.sk-parallel-item {display: flex;flex-direction: column;z-index: 1;position: relative;background-color: white;}#sk-container-id-5 div.sk-parallel-item:first-child::after {align-self: flex-end;width: 50%;}#sk-container-id-5 div.sk-parallel-item:last-child::after {align-self: flex-start;width: 50%;}#sk-container-id-5 div.sk-parallel-item:only-child::after {width: 0;}#sk-container-id-5 div.sk-dashed-wrapped {border: 1px dashed gray;margin: 0 0.4em 0.5em 0.4em;box-sizing: border-box;padding-bottom: 0.4em;background-color: white;}#sk-container-id-5 div.sk-label label {font-family: monospace;font-weight: bold;display: inline-block;line-height: 1.2em;}#sk-container-id-5 div.sk-label-container {text-align: center;}#sk-container-id-5 div.sk-container {/* jupyter's `normalize.less` sets `[hidden] { display: none; }` but bootstrap.min.css set `[hidden] { display: none !important; }` so we also need the `!important` here to be able to override the default hidden behavior on the sphinx rendered scikit-learn.org. See: https://github.com/scikit-learn/scikit-learn/issues/21755 */display: inline-block !important;position: relative;}#sk-container-id-5 div.sk-text-repr-fallback {display: none;}</style><div id=\"sk-container-id-5\" class=\"sk-top-container\"><div class=\"sk-text-repr-fallback\"><pre>LinearRegression()</pre><b>In a Jupyter environment, please rerun this cell to show the HTML representation or trust the notebook. <br />On GitHub, the HTML representation is unable to render, please try loading this page with nbviewer.org.</b></div><div class=\"sk-container\" hidden><div class=\"sk-item\"><div class=\"sk-estimator sk-toggleable\"><input class=\"sk-toggleable__control sk-hidden--visually\" id=\"sk-estimator-id-5\" type=\"checkbox\" checked><label for=\"sk-estimator-id-5\" class=\"sk-toggleable__label sk-toggleable__label-arrow\">LinearRegression</label><div class=\"sk-toggleable__content\"><pre>LinearRegression()</pre></div></div></div></div></div>"
            ]
          },
          "metadata": {},
          "execution_count": 73
        }
      ]
    },
    {
      "cell_type": "markdown",
      "metadata": {
        "id": "RyRva69qUzBK"
      },
      "source": [
        "## Predicting the Test set results"
      ]
    },
    {
      "cell_type": "code",
      "source": [
        "y_pred = regressor.predict(x_test)\n",
        "np.set_printoptions(precision= 3)\n",
        "print(np.concatenate((y_pred.reshape(len(y_pred), 1), y_test.reshape(len(y_test),1)), 1))"
      ],
      "metadata": {
        "colab": {
          "base_uri": "https://localhost:8080/"
        },
        "id": "Llt4cuyjM1D2",
        "outputId": "5ca7cabb-e94e-4bd0-c5e3-2ec355801634"
      },
      "execution_count": null,
      "outputs": [
        {
          "output_type": "stream",
          "name": "stdout",
          "text": [
            "[[ 60966.328  59994.   ]\n",
            " [106235.3   127181.   ]\n",
            " [ 63661.505  50104.   ]\n",
            " [105026.008 110911.   ]\n",
            " [ 63389.591  62019.   ]\n",
            " [ 98970.192  97101.   ]\n",
            " [102298.084 101000.   ]\n",
            " [ 88972.481  90015.   ]\n",
            " [ 82934.435  84008.   ]\n",
            " [105145.481 100000.   ]\n",
            " [ 83479.206  75012.   ]\n",
            " [ 98665.529  98101.   ]\n",
            " [103507.375 112101.   ]\n",
            " [ 96014.974  99110.   ]\n",
            " [ 63142.01   67019.   ]\n",
            " [ 82040.104  83891.   ]\n",
            " [ 58412.388  56095.   ]\n",
            " [ 88681.854  90124.   ]\n",
            " [ 40437.637  41891.   ]\n",
            " [ 71882.704  73010.   ]\n",
            " [ 98356.189  98081.   ]\n",
            " [ 85518.589  90001.   ]\n",
            " [ 86866.973  88012.   ]\n",
            " [ 92914.375  93091.   ]\n",
            " [ 29395.261  37914.   ]\n",
            " [ 69280.779  63091.   ]\n",
            " [ 74751.864  78004.   ]\n",
            " [ 85657.681  87005.   ]]\n"
          ]
        }
      ]
    },
    {
      "cell_type": "markdown",
      "metadata": {
        "id": "uziF7cmeU4tJ"
      },
      "source": [
        "## Visualizing results"
      ]
    },
    {
      "cell_type": "code",
      "source": [
        "plt.plot(y_pred,color=\"red\")\n",
        "plt.plot(y_test)\n",
        "plt.show()"
      ],
      "metadata": {
        "colab": {
          "base_uri": "https://localhost:8080/",
          "height": 430
        },
        "id": "NagWcEinNH1P",
        "outputId": "9baf0863-bbe3-49c7-8537-e8d9c24fc837"
      },
      "execution_count": null,
      "outputs": [
        {
          "output_type": "display_data",
          "data": {
            "text/plain": [
              "<Figure size 640x480 with 1 Axes>"
            ],
            "image/png": "[encoded data removed]"
          },
          "metadata": {}
        }
      ]
    }
  ]
}