{
  "nbformat": 4,
  "nbformat_minor": 0,
  "metadata": {
    "colab": {
      "provenance": [],
      "include_colab_link": true
    },
    "kernelspec": {
      "name": "python3",
      "display_name": "Python 3"
    },
    "language_info": {
      "name": "python"
    }
  },
  "cells": [
    {
      "cell_type": "markdown",
      "metadata": {
        "id": "view-in-github",
        "colab_type": "text"
      },
      "source": [
        "<a href=\"https://colab.research.google.com/github/ssk-12/MachineLearning/blob/main/Matplot_Tutorial.ipynb\" target=\"_parent\"><img src=\"https://colab.research.google.com/assets/colab-badge.svg\" alt=\"Open In Colab\"/></a>"
      ]
    },
    {
      "cell_type": "code",
      "metadata": {
        "id": "Kzvf6ujnt2_b"
      },
      "source": [
        "# Import the necessary packages and modules\n",
        "import matplotlib.pyplot as plt    #import the pyplot module of the matplotlib library under the alias plt.\n",
        "import numpy as np\n",
        "\n",
        "# Prepare the data\n",
        "x = np.linspace(0, 10, 100)"
      ],
      "execution_count": null,
      "outputs": []
    },
    {
      "cell_type": "code",
      "metadata": {
        "id": "E6BXJ3Gtt4kT",
        "colab": {
          "base_uri": "https://localhost:8080/"
        },
        "outputId": "d46ab60f-00f4-4bcc-cb54-68a66250e3d9"
      },
      "source": [
        "x"
      ],
      "execution_count": null,
      "outputs": [
        {
          "output_type": "execute_result",
          "data": {
            "text/plain": [
              "array([ 0.        ,  0.1010101 ,  0.2020202 ,  0.3030303 ,  0.4040404 ,\n",
              "        0.50505051,  0.60606061,  0.70707071,  0.80808081,  0.90909091,\n",
              "        1.01010101,  1.11111111,  1.21212121,  1.31313131,  1.41414141,\n",
              "        1.51515152,  1.61616162,  1.71717172,  1.81818182,  1.91919192,\n",
              "        2.02020202,  2.12121212,  2.22222222,  2.32323232,  2.42424242,\n",
              "        2.52525253,  2.62626263,  2.72727273,  2.82828283,  2.92929293,\n",
              "        3.03030303,  3.13131313,  3.23232323,  3.33333333,  3.43434343,\n",
              "        3.53535354,  3.63636364,  3.73737374,  3.83838384,  3.93939394,\n",
              "        4.04040404,  4.14141414,  4.24242424,  4.34343434,  4.44444444,\n",
              "        4.54545455,  4.64646465,  4.74747475,  4.84848485,  4.94949495,\n",
              "        5.05050505,  5.15151515,  5.25252525,  5.35353535,  5.45454545,\n",
              "        5.55555556,  5.65656566,  5.75757576,  5.85858586,  5.95959596,\n",
              "        6.06060606,  6.16161616,  6.26262626,  6.36363636,  6.46464646,\n",
              "        6.56565657,  6.66666667,  6.76767677,  6.86868687,  6.96969697,\n",
              "        7.07070707,  7.17171717,  7.27272727,  7.37373737,  7.47474747,\n",
              "        7.57575758,  7.67676768,  7.77777778,  7.87878788,  7.97979798,\n",
              "        8.08080808,  8.18181818,  8.28282828,  8.38383838,  8.48484848,\n",
              "        8.58585859,  8.68686869,  8.78787879,  8.88888889,  8.98989899,\n",
              "        9.09090909,  9.19191919,  9.29292929,  9.39393939,  9.49494949,\n",
              "        9.5959596 ,  9.6969697 ,  9.7979798 ,  9.8989899 , 10.        ])"
            ]
          },
          "metadata": {},
          "execution_count": 2
        }
      ]
    },
    {
      "cell_type": "code",
      "metadata": {
        "id": "8dxokmQEt5IG",
        "colab": {
          "base_uri": "https://localhost:8080/",
          "height": 265
        },
        "outputId": "251cef80-3bfe-4fe5-d017-cf87cb7409a5"
      },
      "source": [
        "# Plot the data\n",
        "plt.plot(x, x, label='linear')\n",
        "\n",
        "# Add a legend\n",
        "#plt.legend()\n",
        "\n",
        "# Show the plot\n",
        "plt.show()"
      ],
      "execution_count": null,
      "outputs": [
        {
          "output_type": "display_data",
          "data": {
            "text/plain": [
              "<Figure size 432x288 with 1 Axes>"
            ],
            "image/png": "[encoded data removed]"
          },
          "metadata": {
            "needs_background": "light"
          }
        }
      ]
    },
    {
      "cell_type": "markdown",
      "metadata": {
        "id": "8i0cTlDmuwlm"
      },
      "source": [
        "there are two big components\n",
        "\n",
        "- The **Figure** is the overall window or page that everything is drawn on. It’s the top-level component of all the ones that you will consider in the following points. You can create multiple independent Figures. A Figure can have several other things in it, such as a subtitle, which is a centered title to the figure. You’ll also find that you can add a legend and color bar, for example, to your Figure.\n",
        "\n",
        "- To the figure you add Axes. The **Axes** is the area on which the data is plotted with functions such as plot() and scatter() and that can have ticks, labels, etc. associated with it."
      ]
    },
    {
      "cell_type": "markdown",
      "metadata": {
        "id": "y0ess_9Buwal"
      },
      "source": []
    },
    {
      "cell_type": "code",
      "metadata": {
        "id": "kQjoffW1t69t",
        "colab": {
          "base_uri": "https://localhost:8080/",
          "height": 265
        },
        "outputId": "438a1157-b011-4ddd-8df4-c3061e411283"
      },
      "source": [
        "plt.plot([1, 2, 3, 4], [10, 20, 25, 30], color='lightblue', linewidth=3)\n",
        "plt.scatter([0.3, 3.8, 1.2, 2.5], [11, 25, 9, 26], color='darkgreen', marker='^')\n",
        "plt.xlim(0.5, 4.5)\n",
        "plt.show()"
      ],
      "execution_count": null,
      "outputs": [
        {
          "output_type": "display_data",
          "data": {
            "text/plain": [
              "<Figure size 432x288 with 1 Axes>"
            ],
            "image/png": "[encoded data removed]"
          },
          "metadata": {
            "needs_background": "light"
          }
        }
      ]
    },
    {
      "cell_type": "code",
      "metadata": {
        "id": "gyYvPa6jw-6-",
        "colab": {
          "base_uri": "https://localhost:8080/",
          "height": 265
        },
        "outputId": "b5444bc7-eb8c-4986-b2b9-2b35194f398c"
      },
      "source": [
        "x = np.array([5,7,8,7,2,17,2,9,4,11,12,9,6])\n",
        "y = np.array([99,86,87,88,111,86,103,87,94,78,77,85,86])\n",
        "\n",
        "plt.scatter(x, y)\n",
        "plt.show()"
      ],
      "execution_count": null,
      "outputs": [
        {
          "output_type": "display_data",
          "data": {
            "text/plain": [
              "<Figure size 432x288 with 1 Axes>"
            ],
            "image/png": "[encoded data removed]"
          },
          "metadata": {
            "needs_background": "light"
          }
        }
      ]
    },
    {
      "cell_type": "code",
      "metadata": {
        "id": "oMdXh7ySxFRY",
        "colab": {
          "base_uri": "https://localhost:8080/",
          "height": 265
        },
        "outputId": "467ebf5d-31bc-4fbc-e42d-af1498ec8754"
      },
      "source": [
        "#day one, the age and speed of 13 cars:\n",
        "x = np.array([5,7,8,7,2,17,2,9,4,11,12,9,6])\n",
        "y = np.array([99,86,87,88,111,86,103,87,94,78,77,85,86])\n",
        "plt.scatter(x, y)\n",
        "\n",
        "#day two, the age and speed of 15 cars:\n",
        "x = np.array([2,2,8,1,15,8,12,9,7,3,11,4,7,14,12])\n",
        "y = np.array([100,105,84,105,90,99,90,95,94,100,79,112,91,80,85])\n",
        "plt.scatter(x, y)\n",
        "\n",
        "plt.show()"
      ],
      "execution_count": null,
      "outputs": [
        {
          "output_type": "display_data",
          "data": {
            "text/plain": [
              "<Figure size 432x288 with 1 Axes>"
            ],
            "image/png": "[encoded data removed]"
          },
          "metadata": {
            "needs_background": "light"
          }
        }
      ]
    },
    {
      "cell_type": "code",
      "metadata": {
        "id": "JEA-QsWruh_B",
        "colab": {
          "base_uri": "https://localhost:8080/",
          "height": 265
        },
        "outputId": "347ce973-8c4c-4b64-8d69-4f4f788e6592"
      },
      "source": [
        "x = np.array([\"A\", \"B\", \"C\", \"D\"])\n",
        "y = np.array([3, 8, 1, 10])\n",
        "\n",
        "plt.bar(x,y)\n",
        "plt.show()"
      ],
      "execution_count": null,
      "outputs": [
        {
          "output_type": "display_data",
          "data": {
            "text/plain": [
              "<Figure size 432x288 with 1 Axes>"
            ],
            "image/png": "[encoded data removed]"
          },
          "metadata": {
            "needs_background": "light"
          }
        }
      ]
    },
    {
      "cell_type": "code",
      "metadata": {
        "id": "HW02Zvdhw6DK",
        "colab": {
          "base_uri": "https://localhost:8080/",
          "height": 265
        },
        "outputId": "83403fca-0f3a-44e5-9d77-2ae3481362a2"
      },
      "source": [
        "x = np.array([\"A\", \"B\", \"C\", \"D\"])\n",
        "y = np.array([3, 8, 1, 10])\n",
        "\n",
        "plt.barh(x, y)\n",
        "plt.show()"
      ],
      "execution_count": null,
      "outputs": [
        {
          "output_type": "display_data",
          "data": {
            "text/plain": [
              "<Figure size 432x288 with 1 Axes>"
            ],
            "image/png": "[encoded data removed]"
          },
          "metadata": {
            "needs_background": "light"
          }
        }
      ]
    },
    {
      "cell_type": "code",
      "metadata": {
        "id": "VzP6Z2ZTvyYt",
        "colab": {
          "base_uri": "https://localhost:8080/"
        },
        "outputId": "0bcc742e-8eb8-42bd-9f05-5a03ccd8033f"
      },
      "source": [
        "x = np.random.normal(170, 10, 250)\n",
        "\n",
        "print(x)"
      ],
      "execution_count": null,
      "outputs": [
        {
          "output_type": "stream",
          "name": "stdout",
          "text": [
            "[172.01093692 163.14267611 165.86777137 189.26166301 167.28370157\n",
            " 159.03515209 181.08274788 171.52811106 181.59274003 172.51842853\n",
            " 176.62899155 155.73796618 162.83013392 164.92815575 177.02040838\n",
            " 183.75639245 190.75597328 164.50525074 165.14207985 166.39378087\n",
            " 165.83516405 176.71276138 167.71159969 175.35253528 178.050615\n",
            " 177.50168612 166.68088725 185.6609422  175.73089493 174.10265998\n",
            " 159.48411523 187.3767112  171.6671731  176.66457487 181.43587963\n",
            " 154.5975398  178.26437712 164.66898851 175.87328361 183.62091465\n",
            " 159.9181396  176.00309469 181.15713917 150.62827829 188.97191584\n",
            " 166.76628658 182.64654007 189.68879946 170.23329439 172.13793927\n",
            " 163.49276414 167.21857342 181.17176725 174.70289042 164.94655134\n",
            " 174.03958267 174.73046558 181.66839459 178.19972438 169.463738\n",
            " 161.28422791 180.50145549 169.05736144 180.47230732 182.98210737\n",
            " 166.43749727 160.32402216 151.06428724 173.13086374 177.56653913\n",
            " 157.2164867  163.60272145 151.47365134 161.82927268 159.19055921\n",
            " 179.3585198  176.27516791 181.27312945 189.02590895 159.63369415\n",
            " 162.28463471 174.52770574 179.61579546 171.85207097 179.37082581\n",
            " 166.97936273 168.70005305 161.61516449 196.97093866 159.39343423\n",
            " 158.37253598 178.92837564 153.97884111 172.25257607 163.85193768\n",
            " 169.1862755  174.9596995  171.45825856 179.62407486 175.25821149\n",
            " 164.40074689 171.13906792 173.07961178 169.82830952 178.7278847\n",
            " 168.15434585 164.72571211 164.62091361 165.35176084 173.85375771\n",
            " 179.50497606 167.08104443 166.36812076 160.44842664 167.462741\n",
            " 177.30356158 165.7667346  167.63761338 158.55172547 178.53325175\n",
            " 176.15173808 166.94238732 176.52753194 182.50394081 166.49761888\n",
            " 178.8937455  170.2568961  172.78317747 174.22933237 178.82863395\n",
            " 158.09200526 159.93691206 156.21911368 185.23892741 179.89441603\n",
            " 160.15465272 166.62113119 170.04354835 181.60823781 190.97010153\n",
            " 147.08226601 167.08827248 160.53341584 158.81929337 168.31670054\n",
            " 180.19878536 173.87544611 156.54491679 166.1006807  166.571572\n",
            " 173.19557666 181.0140002  170.85175358 159.2063551  177.28634453\n",
            " 189.53445871 177.28351402 182.88493283 162.32068389 180.05077463\n",
            " 173.81978625 169.65970883 157.59288423 181.30326068 159.10523088\n",
            " 166.59977754 168.7915769  163.60559243 180.42613766 168.94984684\n",
            " 160.23753942 180.36545977 165.69759041 147.05117015 158.71834028\n",
            " 171.9325084  184.37599657 181.7371484  179.00589433 165.13476655\n",
            " 148.49984605 154.27261993 167.11463037 155.75878342 165.1761272\n",
            " 178.34538348 162.270324   172.75243026 168.26116513 158.58397564\n",
            " 161.9951155  175.22828419 170.59205244 180.18546867 181.92844997\n",
            " 172.76745566 172.5074365  184.8057125  178.87864656 186.44898157\n",
            " 165.05583176 169.63656532 180.4420267  144.96969704 167.12741886\n",
            " 184.38655506 174.32667291 160.58607054 163.81486392 179.40603226\n",
            " 174.04645383 154.31517564 173.94372202 168.89405175 173.25866715\n",
            " 179.38031783 189.86433776 167.19109413 156.78341797 178.71809983\n",
            " 166.71493997 167.47144755 169.6462722  168.47893509 183.77834005\n",
            " 178.4097688  171.63664232 150.2599975  163.83486008 164.74640876\n",
            " 159.29068203 180.83054252 174.95603984 160.94644353 178.94940325\n",
            " 166.93122661 178.35948507 170.33051778 155.77194233 170.68453631\n",
            " 172.42940074 177.59799832 162.58502986 169.36138286 176.71924486\n",
            " 171.55986063 175.47187117 153.98633081 172.50177824 177.21162625]\n"
          ]
        }
      ]
    },
    {
      "cell_type": "code",
      "metadata": {
        "id": "HszHQE8rv5fW",
        "colab": {
          "base_uri": "https://localhost:8080/",
          "height": 265
        },
        "outputId": "37a03f37-2b25-4392-a404-e853fb526432"
      },
      "source": [
        "plt.hist(x)\n",
        "plt.show()"
      ],
      "execution_count": null,
      "outputs": [
        {
          "output_type": "display_data",
          "data": {
            "text/plain": [
              "<Figure size 432x288 with 1 Axes>"
            ],
            "image/png": "[encoded data removed]"
          },
          "metadata": {
            "needs_background": "light"
          }
        }
      ]
    },
    {
      "cell_type": "code",
      "metadata": {
        "id": "1GT3lI-qwAW2",
        "colab": {
          "base_uri": "https://localhost:8080/",
          "height": 248
        },
        "outputId": "d0dcfb35-21de-46b0-9aa4-bc84edb14fc2"
      },
      "source": [
        "y = np.array([35, 25, 25, 15])\n",
        "\n",
        "plt.pie(y)\n",
        "plt.show()"
      ],
      "execution_count": null,
      "outputs": [
        {
          "output_type": "display_data",
          "data": {
            "text/plain": [
              "<Figure size 432x288 with 1 Axes>"
            ],
            "image/png": "[encoded data removed]"
          },
          "metadata": {}
        }
      ]
    },
    {
      "cell_type": "code",
      "metadata": {
        "id": "a4VL3hhkwD8v",
        "colab": {
          "base_uri": "https://localhost:8080/",
          "height": 248
        },
        "outputId": "4ae87358-ec68-4294-9fab-12b3fecd2f17"
      },
      "source": [
        "y = np.array([35, 25, 25, 15])\n",
        "mylabels = [\"Apples\", \"Bananas\", \"Cherries\", \"Dates\"]\n",
        "\n",
        "plt.pie(y, labels = mylabels)\n",
        "plt.show()"
      ],
      "execution_count": null,
      "outputs": [
        {
          "output_type": "display_data",
          "data": {
            "text/plain": [
              "<Figure size 432x288 with 1 Axes>"
            ],
            "image/png": "[encoded data removed]"
          },
          "metadata": {}
        }
      ]
    },
    {
      "cell_type": "code",
      "metadata": {
        "id": "BZEdBWJiwtiu",
        "colab": {
          "base_uri": "https://localhost:8080/",
          "height": 248
        },
        "outputId": "7a523fa6-e850-4fee-94eb-030229749cf1"
      },
      "source": [
        "y = np.array([35, 25, 25, 15])\n",
        "mylabels = [\"Apples\", \"Bananas\", \"Cherries\", \"Dates\"]\n",
        "myexplode = [0.2, 0, 0, 0]\n",
        "\n",
        "plt.pie(y, labels = mylabels, explode = myexplode)\n",
        "plt.show()"
      ],
      "execution_count": null,
      "outputs": [
        {
          "output_type": "display_data",
          "data": {
            "text/plain": [
              "<Figure size 432x288 with 1 Axes>"
            ],
            "image/png": "[encoded data removed]"
          },
          "metadata": {}
        }
      ]
    },
    {
      "cell_type": "markdown",
      "metadata": {
        "id": "xHFTM9bcxWqY"
      },
      "source": []
    },
    {
      "cell_type": "code",
      "metadata": {
        "id": "D71kmV_Ewy0N"
      },
      "source": [
        "c1 = np.random.normal(100, 10, 200)"
      ],
      "execution_count": null,
      "outputs": []
    },
    {
      "cell_type": "code",
      "metadata": {
        "id": "o0No_IUuxYrZ",
        "colab": {
          "base_uri": "https://localhost:8080/",
          "height": 265
        },
        "outputId": "6bf14cf3-6c8f-47e1-f9c7-fd4c5dd8e28a"
      },
      "source": [
        "plt.boxplot(c1)\n",
        "plt.show()"
      ],
      "execution_count": null,
      "outputs": [
        {
          "output_type": "display_data",
          "data": {
            "text/plain": [
              "<Figure size 432x288 with 1 Axes>"
            ],
            "image/png": "[encoded data removed]"
          },
          "metadata": {
            "needs_background": "light"
          }
        }
      ]
    }
  ]
}